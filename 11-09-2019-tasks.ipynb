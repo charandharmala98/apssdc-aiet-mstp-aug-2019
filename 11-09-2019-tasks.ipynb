{
 "cells": [
  {
   "cell_type": "markdown",
   "metadata": {},
   "source": [
    "question 1: print prime number series till N\n",
    "input format:\n",
    "10\n",
    "output format:\n",
    "2 3 5 7 "
   ]
  },
  {
   "cell_type": "code",
   "execution_count": 10,
   "metadata": {},
   "outputs": [
    {
     "name": "stdout",
     "output_type": "stream",
     "text": [
      "Enter lower range0\n",
      "Enter higher range10\n",
      "2\n",
      "3\n",
      "5\n",
      "7\n"
     ]
    }
   ],
   "source": [
    "# solution:\n",
    "low = int(input(\"Enter lower range\"))\n",
    "up = int(input(\"Enter higher range\"))\n",
    "for x in range(low,up+1):\n",
    "    if x>1:\n",
    "        for i in range(2,x):\n",
    "            if(x%i)==0:\n",
    "                break\n",
    "        else:\n",
    "            print(x)"
   ]
  },
  {
   "cell_type": "markdown",
   "metadata": {},
   "source": [
    "Question-2:\n",
    "Count Divisors: You have been given 3 integers - l, r and k. Find how many numbers between l and r (both inclusive) are divisible by k.\n",
    "Input Format:\n",
    "1 10 1\n",
    "Output Format:\n",
    "10"
   ]
  },
  {
   "cell_type": "code",
   "execution_count": 20,
   "metadata": {},
   "outputs": [
    {
     "name": "stdout",
     "output_type": "stream",
     "text": [
      "enter lower range number1\n",
      "enter higher range number10\n",
      "enter a value1\n",
      "10\n"
     ]
    }
   ],
   "source": [
    "l = int(input(\"enter lower range number\"))\n",
    "r = int(input(\"enter higher range number\"))\n",
    "k = int(input(\"enter a value\"))\n",
    "count = 0\n",
    "for i in range(l,r+1):\n",
    "    if(i%k)==0:\n",
    "        count+=1\n",
    "print(count)"
   ]
  },
  {
   "cell_type": "markdown",
   "metadata": {},
   "source": [
    "Question-3:\n",
    "Word Frequency: need to print words with frequency from given sentence (string) in dictionary format\n",
    "Input Format:\n",
    "ravi ramu balu ravi raghu\n",
    "Output Format:\n",
    "{“ravi”:2, “ramu”:1, “balu”:1, “raghu”:1}"
   ]
  },
  {
   "cell_type": "code",
   "execution_count": 24,
   "metadata": {},
   "outputs": [
    {
     "name": "stdout",
     "output_type": "stream",
     "text": [
      "{'ramu': 2, 'ravi': 2, 'balu': 1, 'raghu': 1}\n"
     ]
    }
   ],
   "source": [
    "def word_count(str):\n",
    "    counts = dict()\n",
    "    words=str.split()\n",
    "    for word in words:\n",
    "        if word in counts:\n",
    "            counts[word] += 1\n",
    "        else:\n",
    "            counts[word]=1\n",
    "    return counts\n",
    "print(word_count('ramu ravi ramu balu ravi raghu'))"
   ]
  },
  {
   "cell_type": "code",
   "execution_count": null,
   "metadata": {},
   "outputs": [],
   "source": []
  }
 ],
 "metadata": {
  "kernelspec": {
   "display_name": "Python 3",
   "language": "python",
   "name": "python3"
  },
  "language_info": {
   "codemirror_mode": {
    "name": "ipython",
    "version": 3
   },
   "file_extension": ".py",
   "mimetype": "text/x-python",
   "name": "python",
   "nbconvert_exporter": "python",
   "pygments_lexer": "ipython3",
   "version": "3.7.3"
  }
 },
 "nbformat": 4,
 "nbformat_minor": 2
}
