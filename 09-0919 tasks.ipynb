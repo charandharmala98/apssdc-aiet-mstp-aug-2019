{
 "cells": [
  {
   "cell_type": "markdown",
   "metadata": {},
   "source": [
    "Question -1:\n",
    "Maximum length: Print the words which length has maximum if multiple names has max length print that names in same line.\n",
    "Sample Input :\n",
    "mahesh ravi raghu krish balu\n",
    "Sample output : mahesh"
   ]
  },
  {
   "cell_type": "code",
   "execution_count": 1,
   "metadata": {},
   "outputs": [
    {
     "name": "stdout",
     "output_type": "stream",
     "text": [
      "mahesh\n"
     ]
    }
   ],
   "source": [
    "# max length\n",
    "names=\"mahesh ravi raghu krish balu\"\n",
    "s=names.split(' ')\n",
    "m=0\n",
    "for i in s:\n",
    "    l=len(i)\n",
    "    if(l>m):\n",
    "        m=l\n",
    "for j in s:\n",
    "    if(len(j)==m):\n",
    "        print(j)"
   ]
  },
  {
   "cell_type": "markdown",
   "metadata": {},
   "source": [
    "Question -2:\n",
    "Palindrome: Need to find and print whether this string is a palindrome or not. If yes, print \"YES\" else print \"NO\".\n",
    "Sample Input :\n",
    "LoL\n",
    "Sample output : YES"
   ]
  },
  {
   "cell_type": "code",
   "execution_count": 2,
   "metadata": {},
   "outputs": [
    {
     "name": "stdout",
     "output_type": "stream",
     "text": [
      "no\n",
      "no\n",
      "no\n",
      "no\n",
      "no\n",
      "yes\n"
     ]
    }
   ],
   "source": [
    "# string is palindrom or not\n",
    "names=\"mahesh ravi raghu krish balu malayalam\"\n",
    "s=names.split(' ')\n",
    "for i in s:\n",
    "    m=0\n",
    "    flag=0\n",
    "    for j in range((len(i)-1),m,-1):\n",
    "        if(i[m]==i[j]):\n",
    "            m+=1\n",
    "        else:\n",
    "            flag=1\n",
    "    if(flag==0):\n",
    "        print(\"yes\")\n",
    "    else:\n",
    "        print(\"no\")"
   ]
  },
  {
   "cell_type": "markdown",
   "metadata": {},
   "source": [
    "Question -3:\n",
    "Toggle String: You have been given a String S consisting of uppercase and lowercase English alphabets. You need to change the case of each alphabet in this String.\n",
    "Sample Input :\n",
    "hElLo\n",
    "Sample output : HeLlO"
   ]
  },
  {
   "cell_type": "code",
   "execution_count": null,
   "metadata": {},
   "outputs": [],
   "source": []
  }
 ],
 "metadata": {
  "kernelspec": {
   "display_name": "Python 3",
   "language": "python",
   "name": "python3"
  },
  "language_info": {
   "codemirror_mode": {
    "name": "ipython",
    "version": 3
   },
   "file_extension": ".py",
   "mimetype": "text/x-python",
   "name": "python",
   "nbconvert_exporter": "python",
   "pygments_lexer": "ipython3",
   "version": "3.7.3"
  }
 },
 "nbformat": 4,
 "nbformat_minor": 2
}
