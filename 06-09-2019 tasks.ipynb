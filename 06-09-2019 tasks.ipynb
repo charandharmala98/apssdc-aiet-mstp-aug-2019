{
 "cells": [
  {
   "cell_type": "markdown",
   "metadata": {},
   "source": [
    "Question-1: Write a Python Program to largest of three given numbers (using input statement)"
   ]
  },
  {
   "cell_type": "code",
   "execution_count": 1,
   "metadata": {},
   "outputs": [
    {
     "name": "stdout",
     "output_type": "stream",
     "text": [
      "enter a value31\n",
      "enter a value75\n",
      "enter a value21\n",
      "75 is largest\n"
     ]
    }
   ],
   "source": [
    "a = int(input(\"enter a value\"))\n",
    "b = int(input(\"enter a value\"))\n",
    "c = int(input(\"enter a value\"))\n",
    "if(a>b and a>c):\n",
    "    print(a,\"is largest\")\n",
    "elif(b>c):\n",
    "    print(b,\"is largest\")\n",
    "else:\n",
    "    print(c,\"is largest\")"
   ]
  },
  {
   "cell_type": "markdown",
   "metadata": {},
   "source": [
    "Question -2: Write a python program to find the given number(N) in given range(lower bound-upper bound)"
   ]
  },
  {
   "cell_type": "code",
   "execution_count": 2,
   "metadata": {},
   "outputs": [
    {
     "name": "stdout",
     "output_type": "stream",
     "text": [
      "lower bound number10\n",
      "upper bound number20\n",
      "enter N15\n",
      "number exist\n"
     ]
    }
   ],
   "source": [
    "l = int(input(\"lower bound number\"))\n",
    "u = int(input(\"upper bound number\"))\n",
    "n = int(input(\"enter N\"))\n",
    "if(n>=l and n<=u):\n",
    "    print(\"number exist\")\n",
    "else:\n",
    "    print(\"out of bound\")"
   ]
  },
  {
   "cell_type": "code",
   "execution_count": null,
   "metadata": {},
   "outputs": [],
   "source": []
  }
 ],
 "metadata": {
  "kernelspec": {
   "display_name": "Python 3",
   "language": "python",
   "name": "python3"
  },
  "language_info": {
   "codemirror_mode": {
    "name": "ipython",
    "version": 3
   },
   "file_extension": ".py",
   "mimetype": "text/x-python",
   "name": "python",
   "nbconvert_exporter": "python",
   "pygments_lexer": "ipython3",
   "version": "3.7.3"
  }
 },
 "nbformat": 4,
 "nbformat_minor": 2
}
