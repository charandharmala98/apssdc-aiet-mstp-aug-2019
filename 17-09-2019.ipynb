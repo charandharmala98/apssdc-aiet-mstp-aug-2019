List Comprehension
In python, list comprehension is an easy way to create lists. List comprehensions are more efficient compared to for loop.

In [2]:
list1 = [1,2,3,4]
result = []
for number in list1:
    result.append(number)
print(result)
[1, 2, 3, 4]
In [3]:
result = [n for n in range(6,11)]
print(result)
[6, 7, 8, 9, 10]
In [4]:
s = "Apssdc"
[char for char in s]
Out[4]:
['A', 'p', 's', 's', 'd', 'c']
In [6]:
# to print only even numbers with in range
[i for i in range(1,11) if i%2==0]
Out[6]:
[2, 4, 6, 8, 10]
Example Given a List contains a paragraph and each sentence is separated with commas. Write a program to print list that contains individual words. With For Loop

In [8]:
paragraph = ["There was a fox.", "it was seen near that farm sometime back"]
list1 = []
for sentence in paragraph:
    for word in sentence.split():
        list1.append(word)
print(list1)
['There', 'was', 'a', 'fox.', 'it', 'was', 'seen', 'near', 'that', 'farm', 'sometime', 'back']
In [9]:
paragraph = ["there was a fox", "it was seen near that farm sometime back"]
list1 = [word for sentence in paragraph for word in sentence.split()]
print(list1)
['there', 'was', 'a', 'fox', 'it', 'was', 'seen', 'near', 'that', 'farm', 'sometime', 'back']
Program to print the cubes of the numbers in a given list using list comprehension.

In [10]:
def cube(n):
    return n ** 3
li1 = [1,2,3,4,5,6]
numbers = [i for i in li1]
[cube(i) for i in numbers]
Out[10]:
[1, 8, 27, 64, 125, 216]
In [2]:
# sum the digits of given string
rollno = "13A85A0505"
sum([int(c) for c in rollno if c.isdigit()])
Out[2]:
27
In [4]:
# print the names which starts with a
names=['harish','akash','mahesh','krishna']
[ name for name in names if name.startswith('a')]
Out[4]:
['akash']
In [12]:
# print the names which endswith with m
names=['harish','akash','mahesh','krishna']
[ name for name in names if name.endswith('h')]
Out[12]:
['harish', 'akash', 'mahesh']
In [7]:
# print the names which length has 5
names=['harish','akash','mahesh','krishna']
[ name for name in names if len(name)==5]
Out[7]:
['akash']
In [13]:
# print the names which length highertha 5
names=['harish','akash','mahesh','krishna']
[ name for name in names if len(name)>5]
Out[13]:
['harish', 'mahesh', 'krishna']
In [16]:
# print the names which length has not 6
names=['harish','akash','mahesh','krishna']
[ name for name in names if len(name)!=6]
Out[16]:
['akash', 'krishna']
In [10]:
# print the first 1000 values sum
sum([i for i in range(1,1001)])
Out[10]:
500500
In [17]:
s = "india is my country"
[w for w in s.split() if len(w)==2]
Out[17]:
['is', 'my']
In [18]:
s = "india is my country"
''.join([w.upper() for w in s.split() if len(w)==2])
Out[18]:
'ISMY'
In [ ]:

Python Dictionary Comprehension
Dictionary comprehension is a method for transforming one dictionary into another dictionary. During this transformation, items within the original dictionary can be conditionally included in the new dictionary and each item can be transformed as needed.
In [11]:
a = {'apple': 'fruit', 'beetroot': 'vegetable', 'cake': 'dessert'}
a['doughnut'] = 'snack'
print(a['apple'])
fruit
In [19]:
numbers = [1,2,3,4,5]
squares = {}
for i in numbers:
    squares[i] = i*i
squares
Out[19]:
{1: 1, 2: 4, 3: 9, 4: 16, 5: 25}
In [20]:
{i:i*i for i in numbers}
Out[20]:
{1: 1, 2: 4, 3: 9, 4: 16, 5: 25}
In [21]:
s = "apple ball cat dog elephant frog"
{w[0]:w for w in s.split()}
Out[21]:
{'a': 'apple',
 'b': 'ball',
 'c': 'cat',
 'd': 'dog',
 'e': 'elephant',
 'f': 'frog'}
In [26]:
s = "apple ball cat dog elephant frog"
d = {w[0].upper():w.capitalize() for w in s.split()}
d
Out[26]:
{'A': 'Apple',
 'B': 'Ball',
 'C': 'Cat',
 'D': 'Dog',
 'E': 'Elephant',
 'F': 'Frog'}
In [32]:
list(d.items())[::2]
Out[32]:
[('A', 'Apple'), ('C', 'Cat'), ('E', 'Elephant')]
In [29]:
result_d = {k:v for k,v in list(d.items())[::2]}
result_d
Out[29]:
{'A': 'Apple', 'C': 'Cat', 'E': 'Elephant'}
In [33]:
numbers = [1,2,3,4,5,6]
t = ('one','two','three','four','five','six')
{k:v for k,v in zip(numbers,t) }
Out[33]:
{1: 'one', 2: 'two', 3: 'three', 4: 'four', 5: 'five', 6: 'six'}
In [38]:
contacts_text="""mahesh 9837281924
ravi 8987897594
krishna 9283928321"""
contacts_dict={}
for line in contacts_text.split("\n"):
    contact_name,number = line.split()
    contacts_dict[contact_name] = number
contacts_dict
Out[38]:
{'mahesh': '9837281924', 'ravi': '8987897594', 'krishna': '9283928321'}
In [46]:
words = []
for lines in contacts_text.split("\n"):
    for line in lines.split():
        words.append(line)
words
{n:c for n,c in zip(words[::2],words[1::2])}
Out[46]:
{'mahesh': '9837281924', 'ravi': '8987897594', 'krishna': '9283928321'}
In [ ]:
for lines in contacts_text.split("\n") for line in lines.split()
tuple comprehension
In [53]:
tuple(i for i in range(5))
Out[53]:
(0, 1, 2, 3, 4)
In [54]:
sum(tuple(i for i in range(5)))
Out[54]:
10
In [55]:
tuple(i for i in range(5)[::2])
Out[55]:
(0, 2, 4)