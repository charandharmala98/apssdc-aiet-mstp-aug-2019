{
 "cells": [
  {
   "cell_type": "markdown",
   "metadata": {},
   "source": [
    "# Files"
   ]
  },
  {
   "cell_type": "markdown",
   "metadata": {},
   "source": [
    "* File is collection of records or information\n",
    "* File is stored in secondary device(hard disk)\n",
    "* we have some methods to work with files\n",
    "* open\n",
    "* close \n",
    "* read\n",
    "* write "
   ]
  },
  {
   "cell_type": "markdown",
   "metadata": {},
   "source": [
    "Method-1"
   ]
  },
  {
   "cell_type": "code",
   "execution_count": 1,
   "metadata": {},
   "outputs": [
    {
     "name": "stdout",
     "output_type": "stream",
     "text": [
      "This is sample test\n",
      "\n"
     ]
    }
   ],
   "source": [
    "fh = open('sample.txt','r')\n",
    "data = fh.read()\n",
    "print(data)\n",
    "fh.close()"
   ]
  },
  {
   "cell_type": "markdown",
   "metadata": {},
   "source": [
    "Method - 2"
   ]
  },
  {
   "cell_type": "code",
   "execution_count": 2,
   "metadata": {},
   "outputs": [
    {
     "name": "stdout",
     "output_type": "stream",
     "text": [
      "This is sample test\n",
      "\n"
     ]
    }
   ],
   "source": [
    "with open('sample.txt','r') as fh:\n",
    "    data=fh.read()\n",
    "    print(data)"
   ]
  },
  {
   "cell_type": "code",
   "execution_count": 11,
   "metadata": {},
   "outputs": [],
   "source": [
    "def readdata(fname):\n",
    "    fh=open(fname, 'r')\n",
    "    data=fh.read()\n",
    "    return data\n",
    "    "
   ]
  },
  {
   "cell_type": "code",
   "execution_count": 12,
   "metadata": {},
   "outputs": [
    {
     "name": "stdout",
     "output_type": "stream",
     "text": [
      "THIS IS SAMPLE TEST\n",
      "\n"
     ]
    }
   ],
   "source": [
    "print(readdata('sample.txt').upper())"
   ]
  },
  {
   "cell_type": "code",
   "execution_count": 13,
   "metadata": {},
   "outputs": [
    {
     "name": "stdout",
     "output_type": "stream",
     "text": [
      "we are giving test to write the data in new file\n"
     ]
    }
   ],
   "source": [
    "fh =open('newfile.txt','w')\n",
    "data = input()\n",
    "fh.write(data)\n",
    "fh.close()"
   ]
  },
  {
   "cell_type": "code",
   "execution_count": 15,
   "metadata": {},
   "outputs": [],
   "source": [
    "def writedata(fname, text):\n",
    "    fh = open(fname, 'w')\n",
    "    fh.write(text)\n",
    "    fh.close()\n",
    "    return 'written sucessfully'"
   ]
  },
  {
   "cell_type": "code",
   "execution_count": 18,
   "metadata": {},
   "outputs": [
    {
     "data": {
      "text/plain": [
       "'written sucessfully'"
      ]
     },
     "execution_count": 18,
     "metadata": {},
     "output_type": "execute_result"
    }
   ],
   "source": [
    "writedata('newfile.txt','hello')"
   ]
  },
  {
   "cell_type": "code",
   "execution_count": 11,
   "metadata": {},
   "outputs": [],
   "source": [
    "file='contacts_data.txt'\n",
    "def newcontact(name,contact):\n",
    "    fh=open(file,'a')\n",
    "    fh.write(name+\" \"+str(contact)+\"\\n\")\n",
    "    fh.close()\n",
    "    return 'contact saved'"
   ]
  },
  {
   "cell_type": "code",
   "execution_count": 19,
   "metadata": {},
   "outputs": [
    {
     "data": {
      "text/plain": [
       "'contact saved'"
      ]
     },
     "execution_count": 19,
     "metadata": {},
     "output_type": "execute_result"
    }
   ],
   "source": [
    "newcontact('mahesh',9827282910)"
   ]
  },
  {
   "cell_type": "code",
   "execution_count": 20,
   "metadata": {},
   "outputs": [
    {
     "data": {
      "text/plain": [
       "'contact saved'"
      ]
     },
     "execution_count": 20,
     "metadata": {},
     "output_type": "execute_result"
    }
   ],
   "source": [
    "newcontact('krishna',9827289210)"
   ]
  },
  {
   "cell_type": "code",
   "execution_count": 16,
   "metadata": {},
   "outputs": [],
   "source": [
    "def readcontact(name):\n",
    "    fh = open(file)\n",
    "    lines = fh.readlines()\n",
    "    for line in lines:\n",
    "        word = line.split()\n",
    "        contact_name = word[0]\n",
    "        contact = word[1]\n",
    "        if name == contact_name:\n",
    "            print(contact)\n",
    "            break"
   ]
  },
  {
   "cell_type": "code",
   "execution_count": 17,
   "metadata": {},
   "outputs": [
    {
     "name": "stdout",
     "output_type": "stream",
     "text": [
      "9827282910\n"
     ]
    }
   ],
   "source": [
    "readcontact('mahesh')"
   ]
  },
  {
   "cell_type": "code",
   "execution_count": 21,
   "metadata": {},
   "outputs": [
    {
     "name": "stdout",
     "output_type": "stream",
     "text": [
      "9827289210\n"
     ]
    }
   ],
   "source": [
    "readcontact('krishna')"
   ]
  },
  {
   "cell_type": "code",
   "execution_count": 31,
   "metadata": {},
   "outputs": [
    {
     "name": "stdout",
     "output_type": "stream",
     "text": [
      "mahesh 9827282910\n",
      " mahesh 9827282910\n",
      " krishna 9827289210\n",
      " "
     ]
    }
   ],
   "source": [
    "def readallcontacts():\n",
    "    fh = open(file)\n",
    "    lines = fh.readlines()\n",
    "    for line in lines:\n",
    "        print(line,end=\" \")\n",
    "readallcontacts()\n",
    "        "
   ]
  },
  {
   "cell_type": "code",
   "execution_count": 34,
   "metadata": {},
   "outputs": [
    {
     "name": "stdout",
     "output_type": "stream",
     "text": [
      "krishna 9827289210\n",
      "mahesh 9827282910\n",
      "mahesh 9827282910\n"
     ]
    }
   ],
   "source": [
    "def readallcontactbysorting():\n",
    "    fh = open(file)\n",
    "    lines = fh.readlines()\n",
    "    contacts=[]\n",
    "    for line in lines:\n",
    "        contacts.append(tuple(line.split()))\n",
    "    sorted_contacts = sorted(contacts)\n",
    "    for name,contact in sorted_contacts:\n",
    "        print(name,contact)\n",
    "readallcontactbysorting()"
   ]
  },
  {
   "cell_type": "markdown",
   "metadata": {},
   "source": [
    "### MODES IN FILE HANDLING"
   ]
  },
  {
   "cell_type": "markdown",
   "metadata": {},
   "source": [
    "we have three methods\n",
    "* read()\n",
    "* write()\n",
    "* append()"
   ]
  },
  {
   "cell_type": "code",
   "execution_count": 1,
   "metadata": {},
   "outputs": [
    {
     "name": "stdout",
     "output_type": "stream",
     "text": [
      "new line \n",
      "line 1 \n",
      "line 2\n",
      "line 3\n",
      "line 4\n"
     ]
    }
   ],
   "source": [
    "f = open('data12.txt')\n",
    "fh=f.read()\n",
    "print(fh)\n",
    "f.close()"
   ]
  },
  {
   "cell_type": "markdown",
   "metadata": {},
   "source": [
    "### WRITE() mode is used to write something in a file"
   ]
  },
  {
   "cell_type": "code",
   "execution_count": 8,
   "metadata": {},
   "outputs": [
    {
     "name": "stdout",
     "output_type": "stream",
     "text": [
      "8\n"
     ]
    }
   ],
   "source": [
    "with open('data12.txt','w') as f:\n",
    "    fh=f.write(\"APSSDC \\n\")\n",
    "    print(fh)"
   ]
  },
  {
   "cell_type": "markdown",
   "metadata": {},
   "source": [
    "### APPEND MODE "
   ]
  },
  {
   "cell_type": "code",
   "execution_count": 9,
   "metadata": {},
   "outputs": [
    {
     "name": "stdout",
     "output_type": "stream",
     "text": [
      "20\n"
     ]
    }
   ],
   "source": [
    "with open('data12.txt','a') as f:\n",
    "    fh =f.write(\"python programming \\n\")\n",
    "    print(fh)"
   ]
  },
  {
   "cell_type": "markdown",
   "metadata": {},
   "source": [
    "* tell() - cursor position \n",
    "* seek() - particular point in file"
   ]
  },
  {
   "cell_type": "code",
   "execution_count": 11,
   "metadata": {},
   "outputs": [
    {
     "name": "stdout",
     "output_type": "stream",
     "text": [
      "30\n"
     ]
    }
   ],
   "source": [
    "with open('data12.txt','r') as f:\n",
    "    f.read()\n",
    "    print(f.tell())"
   ]
  },
  {
   "cell_type": "code",
   "execution_count": 12,
   "metadata": {},
   "outputs": [
    {
     "name": "stdout",
     "output_type": "stream",
     "text": [
      "APSSDC \n",
      "python programming \n",
      "\n"
     ]
    }
   ],
   "source": [
    "with open('data12.txt','r') as f:\n",
    "    f.read()\n",
    "    f.seek(0)\n",
    "    print(f.read(30))"
   ]
  },
  {
   "cell_type": "code",
   "execution_count": 26,
   "metadata": {},
   "outputs": [],
   "source": [
    "# Function to generate marks data from n students \n",
    "from random import randint \n",
    "def generatemarks(n,lb,ub):\n",
    "    with open('DataFiles/marks.txt','w') as f:\n",
    "        for i in range(0,n):\n",
    "            r=randint(lb,ub)\n",
    "            f.write(str(r)+'\\n')\n",
    "    return\n",
    "generatemarks(10000,0,100)"
   ]
  },
  {
   "cell_type": "markdown",
   "metadata": {},
   "source": [
    "### Generating a class report,class average,passed students,failed students\n",
    "### Distinction,heighest mark frequency.lowest mark frequency"
   ]
  },
  {
   "cell_type": "code",
   "execution_count": 27,
   "metadata": {},
   "outputs": [
    {
     "name": "stdout",
     "output_type": "stream",
     "text": [
      "class Average: 50.4613\n",
      "% of passed students: 64.8\n",
      "% of failed students: 35.2\n",
      "% of distinction students: 21.45\n",
      "% of highest mark frequency: 95\n",
      "% of lowest mark frequency: 97\n"
     ]
    }
   ],
   "source": [
    "def generatereport(filepath):\n",
    "    with open(filepath,'r') as f:\n",
    "        filedata = f.read()\n",
    "        lines = filedata.split()\n",
    "        sum = 0\n",
    "        passcount=0\n",
    "        distinction =0\n",
    "        highestmark=max(lines)\n",
    "        highcount=0\n",
    "        lowestmark=min(lines)\n",
    "        lowcount=0\n",
    "        for i in lines:\n",
    "            sum+=int(i)\n",
    "            if int(i)>35:\n",
    "                passcount+=1\n",
    "            if int(i)>=80:\n",
    "                distinction+=1\n",
    "            if int(i)==int(highestmark):\n",
    "                highcount+=1\n",
    "            if int(i)==int(lowestmark):\n",
    "                lowcount+=1\n",
    "        average=sum/len(lines)\n",
    "        passpercentage=(passcount/len(lines))*100\n",
    "        failedpercentage=100-passpercentage\n",
    "        distinctionpercentage=(distinction/len(lines))*100\n",
    "        print(\"class Average:\",average)\n",
    "        print(\"% of passed students:\",passpercentage)\n",
    "        print(\"% of failed students:\",failedpercentage)\n",
    "        print(\"% of distinction students:\",distinctionpercentage)\n",
    "        print(\"% of highest mark frequency:\",highcount)\n",
    "        print(\"% of lowest mark frequency:\",lowcount)\n",
    "filepath=('DataFiles/marks.txt')\n",
    "generatereport('DataFiles/marks.txt')"
   ]
  },
  {
   "cell_type": "code",
   "execution_count": 28,
   "metadata": {},
   "outputs": [],
   "source": [
    "# Find and Replace Application\n",
    "\n",
    "# count the total number of occurence of word\n",
    "# check if word is existing in file\n",
    "# replace all occurences of word with another \n",
    "import re\n",
    "def iswordexist(filepath,word):\n",
    "    with open(filepath,'r') as f:\n",
    "        filedata = f.read()\n",
    "        pattern = '[\\n]'\n",
    "        x=re.split(pattern,filedata)\n",
    "        #print(x)\n",
    "        if word in x:\n",
    "            count=x.count(word)\n",
    "            return True\n",
    "        else:\n",
    "            return False\n",
    "        def FindandReplace(filepath,os,ns):\n",
    "            with open(filepath,'w') as f:\n",
    "                if iswordexist(filepath,os):\n",
    "                    f.write(ns)\n",
    "            return\n",
    "    filepath=('DataFiles/data.txt')\n",
    "    FindandReplace(filepath,'data','APSSDC')"
   ]
  },
  {
   "cell_type": "code",
   "execution_count": null,
   "metadata": {},
   "outputs": [],
   "source": []
  }
 ],
 "metadata": {
  "kernelspec": {
   "display_name": "Python 3",
   "language": "python",
   "name": "python3"
  },
  "language_info": {
   "codemirror_mode": {
    "name": "ipython",
    "version": 3
   },
   "file_extension": ".py",
   "mimetype": "text/x-python",
   "name": "python",
   "nbconvert_exporter": "python",
   "pygments_lexer": "ipython3",
   "version": "3.7.3"
  }
 },
 "nbformat": 4,
 "nbformat_minor": 2
}
